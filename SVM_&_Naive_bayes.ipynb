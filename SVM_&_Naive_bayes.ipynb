{
  "nbformat": 4,
  "nbformat_minor": 0,
  "metadata": {
    "colab": {
      "provenance": []
    },
    "kernelspec": {
      "name": "python3",
      "display_name": "Python 3"
    },
    "language_info": {
      "name": "python"
    }
  },
  "cells": [
    {
      "cell_type": "markdown",
      "source": [
        "**Question-1**. What is a Support Vector Machine (SVM)?\n",
        "\n",
        "**solution-1**-A Support Vector Machine (SVM) is a supervised learning algorithm used for classification and regression tasks. It works by finding the optimal hyperplane that maximally separates classes in a high-dimensional space."
      ],
      "metadata": {
        "id": "utVenEhoawtS"
      }
    },
    {
      "cell_type": "markdown",
      "source": [
        "**Question-2**. What is the difference between Hard Margin and Soft Margin SVM?\n",
        "\n",
        "\n",
        "**Solution-2**\n",
        "* Hard Margin SVM: Assumes that data is perfectly linearly\n",
        "separable and does not tolerate misclassification.\n",
        "\n",
        "* Soft Margin SVM: Allows some misclassification to achieve better generalization on unseen data by introducing a penalty for misclassified points"
      ],
      "metadata": {
        "id": "eerPmeD1awpi"
      }
    },
    {
      "cell_type": "markdown",
      "source": [
        "**Question-3**. What is the mathematical intuition behind SVM?\n",
        "\n",
        "**Solution-3**.The core intuition behind SVM is to find a hyperplane that maximizes the margin, which is the distance between the closest points (support vectors) from each class. This helps in achieving better generalization and robustness against overfitting."
      ],
      "metadata": {
        "id": "AXeQZ94Mawlo"
      }
    },
    {
      "cell_type": "markdown",
      "source": [
        "**Question-4**. What is the role of Lagrange Multipliers in SVM?\n",
        "\n",
        "**Solution-4**.Lagrange Multipliers are used to transform the constrained optimization problem of maximizing the margin into a dual form, making it computationally more tractable, especially for high-dimensional data."
      ],
      "metadata": {
        "id": "YX-rsxmaawhu"
      }
    },
    {
      "cell_type": "markdown",
      "source": [
        "**Solution-5**. What are Support Vectors in SVM?\n",
        "\n",
        "**Solution-5**.Support Vectors are the data points closest to the separating hyperplane. They are critical in defining the position and orientation of the hyperplane and directly influence the margin."
      ],
      "metadata": {
        "id": "wMs8ZFwSawdj"
      }
    },
    {
      "cell_type": "markdown",
      "source": [
        "**Question-6**. What is a Support Vector Classifier (SVC)?\n",
        "\n",
        "**Solution-6**.A Support Vector Classifier (SVC) is an application of SVM for classification problems. It constructs a decision boundary (hyperplane) to separate classes with the maximum possible margin."
      ],
      "metadata": {
        "id": "lugYQBtLawZy"
      }
    },
    {
      "cell_type": "markdown",
      "source": [
        "**Question-7**. What is a Support Vector Regressor (SVR)?\n",
        "\n",
        "**Solution-7**.A Support Vector Regressor (SVR) is the regression counterpart of SVM, used to predict continuous values with the objective of keeping predictions within an epsilon-tube, balancing margin and prediction error."
      ],
      "metadata": {
        "id": "fjxKv85vawUY"
      }
    },
    {
      "cell_type": "markdown",
      "source": [
        "**Question-8**. What is the Kernel Trick in SVM?\n",
        "\n",
        "**Solution-8**.\n",
        "The Kernel Trick allows SVMs to operate in higher-dimensional spaces without explicitly computing coordinates. It transforms input data into a higher-dimensional space to make it possible for a linear separator to fit nonlinear data."
      ],
      "metadata": {
        "id": "O1LDhJmGawRW"
      }
    },
    {
      "cell_type": "markdown",
      "source": [
        "9. Compare Linear Kernel, Polynomial Kernel, and RBF Kernel\n",
        "\n",
        "**Solution-9**.\n",
        "* Linear Kernel: Best for linearly separable data.\n",
        "\n",
        "* Polynomial Kernel: Suitable for data with polynomial relationships.\n",
        "\n",
        "* RBF Kernel: Effective for handling complex, nonlinear relationships using the Gaussian function"
      ],
      "metadata": {
        "id": "Mg5jQEcUf3xJ"
      }
    },
    {
      "cell_type": "markdown",
      "source": [
        "**Question-10**. What is the effect of the C parameter in SVM?\n",
        "\n",
        "**Solution-10**\n",
        "The C parameter controls the trade-off between maximizing the margin and minimizing the classification error. A large C tries to classify all training examples correctly, while a small C allows more misclassifications for a wider margin."
      ],
      "metadata": {
        "id": "wP17zIFVf3tj"
      }
    },
    {
      "cell_type": "markdown",
      "source": [
        "**Question-11**. What is the role of the Gamma parameter in RBF Kernel SVM?\n",
        "\n",
        "**Solution-11**.\n",
        "Gamma defines the influence of a single training example in RBF kernels. A low value means far points are considered, a high value means only close points are considered, affecting the decision region smoothness."
      ],
      "metadata": {
        "id": "z2z9x_VVf3pQ"
      }
    },
    {
      "cell_type": "markdown",
      "source": [
        "**Question-12**. What is the Naive Bayes classifier, and why is it called Naive?\n",
        "\n",
        "**Solution-12**.\n",
        "Naive Bayes is a classification algorithm based on Bayes’ Theorem with the \"naive\" assumption that features are conditionally independent given the class outcome."
      ],
      "metadata": {
        "id": "ZvnY_QwMf3lu"
      }
    },
    {
      "cell_type": "markdown",
      "metadata": {
        "id": "a4e38f03"
      },
      "source": [
        "**Solution-13**. What is Bayes Theorem?\n",
        "**Solution-13**.\n",
        "Bayes' Theorem describes the probability of an event, based on prior knowledge of conditions that might be related to the event. It is given by the formula:\n",
        "\n",
        "P(A|B) = [P(B|A) * P(A)] / P(B)\n",
        "\n",
        "Where:\n",
        "* P(A|B) is the posterior probability of A given B.\n",
        "* P(B|A) is the likelihood of B given A.\n",
        "* P(A) is the prior probability of A.\n",
        "* P(B) is the probability of B."
      ]
    },
    {
      "cell_type": "markdown",
      "source": [
        "**Question-14**. Explain the differences between Gaussian, Multinomial, and Bernoulli Naive Bayes.\n",
        "\n",
        "\n",
        "**Solution-14**.\n",
        "* Gaussian Naive Bayes: Assumes features follow a normal distribution, used for continuous data.\n",
        "\n",
        "* Multinomial Naive Bayes: Used for discrete counts like word counts in text.\n",
        "\n",
        "* Bernoulli Naive Bayes: Used for binary/boolean features (present/absent)."
      ],
      "metadata": {
        "id": "9Czzh1-Xf3ev"
      }
    },
    {
      "cell_type": "markdown",
      "source": [
        "**Question-15**. When should you use Gaussian Naive Bayes over other variants?\n",
        "\n",
        "**Solution-15**.\n",
        "Use Gaussian Naive Bayes when features are continuous and expected to follow a normal (Gaussian) distribution."
      ],
      "metadata": {
        "id": "zj5SgBggf3a8"
      }
    },
    {
      "cell_type": "markdown",
      "source": [
        "**Question-16**. What are the key assumptions made by Naive Bayes?\n",
        "\n",
        "**Solution-16**.\n",
        "It assumes all features are conditionally independent given the class, and every feature contributes equally to the outcome."
      ],
      "metadata": {
        "id": "oeCpfwlMj_k_"
      }
    },
    {
      "cell_type": "markdown",
      "source": [
        "**Question-17**. What are the advantages and disadvantages of Naive Bayes?\n",
        "\n",
        "**solution-17**\n",
        "\n",
        "**Advantages:**\n",
        "*  Simple, fast, works well with high-dimensional data, effective for text classification.\n",
        "\n",
        "**Disadvantages:**\n",
        "* The independence assumption is often unrealistic, may perform poorly with correlated features"
      ],
      "metadata": {
        "id": "NY1ClNhgkA7_"
      }
    },
    {
      "cell_type": "markdown",
      "source": [
        "**Question-18**. Why is Naive Bayes a good choice for text classification?\n",
        "\n",
        "**Solution-18**\n",
        "Because it handles high-dimensional sparse data efficiently, and the feature independence approximation works well in practice for text data like spam detection."
      ],
      "metadata": {
        "id": "Lz0o1ar3kA3_"
      }
    },
    {
      "cell_type": "markdown",
      "source": [
        "**Question-19**. Compare SVM and Naive Bayes for classification tasks.\n",
        "\n",
        "**Solution-19**\n",
        "\n",
        "* SVM is more flexible and powerful for complex, high-dimensional datasets and can capture complex patterns.\n",
        "\n",
        "* Naive Bayes is faster, simpler, great for text, but may not perform as well on datasets with highly dependent features."
      ],
      "metadata": {
        "id": "xP7jhTFMkAzJ"
      }
    },
    {
      "cell_type": "markdown",
      "source": [
        "**Question-20**. How does Laplace Smoothing help in Naive Bayes?\n",
        "\n",
        "**Solution-20**.Laplace Smoothing ensures that zero probability does not occur by adding a small positive value to all probabilities, thus improving performance with unseen features in the data."
      ],
      "metadata": {
        "id": "hnWMaaIhkAuh"
      }
    },
    {
      "cell_type": "markdown",
      "source": [
        "**Question-21**.Write a Python program to train an SVM Classifier on the Iris dataset and evaluate accuracy:"
      ],
      "metadata": {
        "id": "Z0e_UX7WkANa"
      }
    },
    {
      "cell_type": "code",
      "execution_count": 1,
      "metadata": {
        "colab": {
          "base_uri": "https://localhost:8080/"
        },
        "id": "DuLJgvixavDI",
        "outputId": "9b2f9f8f-dcfb-447f-c009-f5bc1258a479"
      },
      "outputs": [
        {
          "output_type": "stream",
          "name": "stdout",
          "text": [
            "Accuracy: 1.0\n"
          ]
        }
      ],
      "source": [
        "from sklearn import datasets\n",
        "from sklearn.model_selection import train_test_split\n",
        "from sklearn.svm import SVC\n",
        "from sklearn.metrics import accuracy_score\n",
        "\n",
        "iris = datasets.load_iris()\n",
        "X_train, X_test, y_train, y_test = train_test_split(iris.data, iris.target, test_size=0.3, random_state=42)\n",
        "clf = SVC()\n",
        "clf.fit(X_train, y_train)\n",
        "y_pred = clf.predict(X_test)\n",
        "\n",
        "print(\"Accuracy:\", accuracy_score(y_test, y_pred))\n"
      ]
    },
    {
      "cell_type": "markdown",
      "source": [
        "**Question-22**.Write a Python program to train two SVM classifiers with Linear and RBF kernels on the Wine dataset, then\n",
        "compare their accuracies."
      ],
      "metadata": {
        "id": "PeVbXxHomAe3"
      }
    },
    {
      "cell_type": "code",
      "source": [
        "from sklearn.datasets import load_wine\n",
        "from sklearn.model_selection import train_test_split\n",
        "from sklearn.svm import SVC\n",
        "from sklearn.metrics import accuracy_score\n",
        "\n",
        "wine = load_wine()\n",
        "X_train, X_test, y_train, y_test = train_test_split(wine.data, wine.target, test_size=0.3, random_state=42)\n",
        "\n",
        "clf_linear = SVC(kernel='linear')\n",
        "clf_linear.fit(X_train, y_train)\n",
        "acc_linear = accuracy_score(y_test, clf_linear.predict(X_test))\n",
        "\n",
        "clf_rbf = SVC(kernel='rbf')\n",
        "clf_rbf.fit(X_train, y_train)\n",
        "acc_rbf = accuracy_score(y_test, clf_rbf.predict(X_test))\n",
        "\n",
        "print(\"Linear Kernel Accuracy:\", acc_linear)\n",
        "print(\"RBF Kernel Accuracy:\", acc_rbf)\n"
      ],
      "metadata": {
        "colab": {
          "base_uri": "https://localhost:8080/"
        },
        "id": "L89LU3hAmLaM",
        "outputId": "28574a0d-807f-4361-91c0-6eb7418cf74e"
      },
      "execution_count": 2,
      "outputs": [
        {
          "output_type": "stream",
          "name": "stdout",
          "text": [
            "Linear Kernel Accuracy: 0.9814814814814815\n",
            "RBF Kernel Accuracy: 0.7592592592592593\n"
          ]
        }
      ]
    },
    {
      "cell_type": "markdown",
      "source": [
        "**Question-23**Write a Python program to train an SVM Regressor (SVR) on a housing dataset and evaluate it using Mean\n",
        "Squared Error (MSE):"
      ],
      "metadata": {
        "id": "iq2hvrtcmPMH"
      }
    },
    {
      "cell_type": "code",
      "source": [
        "from sklearn.datasets import fetch_california_housing\n",
        "from sklearn.model_selection import train_test_split\n",
        "from sklearn.svm import SVR\n",
        "from sklearn.metrics import mean_squared_error\n",
        "\n",
        "housing = fetch_california_housing()\n",
        "X_train, X_test, y_train, y_test = train_test_split(housing.data, housing.target, test_size=0.3, random_state=42)\n",
        "\n",
        "svr = SVR()\n",
        "svr.fit(X_train, y_train)\n",
        "y_pred = svr.predict(X_test)\n",
        "\n",
        "print(\"Mean Squared Error:\", mean_squared_error(y_test, y_pred))\n"
      ],
      "metadata": {
        "colab": {
          "base_uri": "https://localhost:8080/"
        },
        "id": "xEmd2U1JmZE3",
        "outputId": "e9433751-8a51-4d51-a578-0e266d63222f"
      },
      "execution_count": 3,
      "outputs": [
        {
          "output_type": "stream",
          "name": "stdout",
          "text": [
            "Mean Squared Error: 1.3489971413208723\n"
          ]
        }
      ]
    },
    {
      "cell_type": "markdown",
      "source": [
        "**Question-24**Write a Python program to train an SVM Classifier with a Polynomial Kernel and visualize the decision\n",
        "boundary:"
      ],
      "metadata": {
        "id": "rGVZLQyimc5i"
      }
    },
    {
      "cell_type": "code",
      "source": [
        "from sklearn.datasets import load_breast_cancer\n",
        "from sklearn.model_selection import train_test_split\n",
        "from sklearn.naive_bayes import GaussianNB\n",
        "from sklearn.metrics import accuracy_score\n",
        "\n",
        "cancer = load_breast_cancer()\n",
        "X_train, X_test, y_train, y_test = train_test_split(cancer.data, cancer.target, test_size=0.3, random_state=42)\n",
        "\n",
        "gnb = GaussianNB()\n",
        "gnb.fit(X_train, y_train)\n",
        "y_pred = gnb.predict(X_test)\n",
        "\n",
        "print(\"Accuracy:\", accuracy_score(y_test, y_pred))\n"
      ],
      "metadata": {
        "colab": {
          "base_uri": "https://localhost:8080/"
        },
        "id": "T9crsbZ8mlyz",
        "outputId": "7e4ae33d-4cd3-4f5c-e81b-7cb6ebf05581"
      },
      "execution_count": 4,
      "outputs": [
        {
          "output_type": "stream",
          "name": "stdout",
          "text": [
            "Accuracy: 0.9415204678362573\n"
          ]
        }
      ]
    },
    {
      "cell_type": "markdown",
      "source": [
        "**Question-25**: Write a Python program to train a Gaussian Naïve Bayes classifier on the Breast Cancer dataset and\n",
        "evaluate accuracy:"
      ],
      "metadata": {
        "id": "x6HZLLeemoQ8"
      }
    },
    {
      "cell_type": "code",
      "source": [
        "from sklearn.datasets import fetch_20newsgroups\n",
        "from sklearn.feature_extraction.text import CountVectorizer\n",
        "from sklearn.naive_bayes import MultinomialNB\n",
        "from sklearn.model_selection import train_test_split\n",
        "from sklearn.metrics import accuracy_score\n",
        "\n",
        "data = fetch_20newsgroups(subset='all')\n",
        "X_train, X_test, y_train, y_test = train_test_split(data.data, data.target, test_size=0.3, random_state=42)\n",
        "\n",
        "vectorizer = CountVectorizer()\n",
        "X_train_vec = vectorizer.fit_transform(X_train)\n",
        "X_test_vec = vectorizer.transform(X_test)\n",
        "\n",
        "nb = MultinomialNB()\n",
        "nb.fit(X_train_vec, y_train)\n",
        "y_pred = nb.predict(X_test_vec)\n",
        "\n",
        "print(\"Text Classification Accuracy:\", accuracy_score(y_test, y_pred))\n"
      ],
      "metadata": {
        "colab": {
          "base_uri": "https://localhost:8080/"
        },
        "id": "4ztxAVRDmv7r",
        "outputId": "fea91394-25b1-4175-bf6e-d248230c3edb"
      },
      "execution_count": 5,
      "outputs": [
        {
          "output_type": "stream",
          "name": "stdout",
          "text": [
            "Text Classification Accuracy: 0.8487796250442164\n"
          ]
        }
      ]
    },
    {
      "cell_type": "markdown",
      "source": [
        "**Question-26**Write a Python program to train a Multinomial Naïve Bayes classifier for text classification using the 20\n",
        "Newsgroups dataset."
      ],
      "metadata": {
        "id": "nD093uzfm1JJ"
      }
    },
    {
      "cell_type": "code",
      "source": [
        "from sklearn.datasets import fetch_20newsgroups\n",
        "from sklearn.feature_extraction.text import CountVectorizer\n",
        "from sklearn.naive_bayes import MultinomialNB\n",
        "from sklearn.model_selection import train_test_split\n",
        "from sklearn.metrics import accuracy_score\n",
        "\n",
        "data = fetch_20newsgroups(subset='all')\n",
        "X_train, X_test, y_train, y_test = train_test_split(data.data, data.target, test_size=0.3, random_state=42)\n",
        "\n",
        "vectorizer = CountVectorizer()\n",
        "X_train_vec = vectorizer.fit_transform(X_train)\n",
        "X_test_vec = vectorizer.transform(X_test)\n",
        "\n",
        "nb = MultinomialNB()\n",
        "nb.fit(X_train_vec, y_train)\n",
        "y_pred = nb.predict(X_test_vec)\n",
        "\n",
        "print(\"Text Classification Accuracy:\", accuracy_score(y_test, y_pred))"
      ],
      "metadata": {
        "colab": {
          "base_uri": "https://localhost:8080/"
        },
        "id": "1WRgIC7unDhV",
        "outputId": "76d698d3-612c-479a-dda0-e5b7419cbd0a"
      },
      "execution_count": 6,
      "outputs": [
        {
          "output_type": "stream",
          "name": "stdout",
          "text": [
            "Text Classification Accuracy: 0.8487796250442164\n"
          ]
        }
      ]
    },
    {
      "cell_type": "markdown",
      "source": [
        "**Question-27**Write a Python program to train an SVM Classifier with different C values and compare the decision\n",
        "boundaries visually."
      ],
      "metadata": {
        "id": "UNpTybtsnMl0"
      }
    },
    {
      "cell_type": "code",
      "source": [
        "import numpy as np\n",
        "import matplotlib.pyplot as plt\n",
        "from sklearn.svm import SVC\n",
        "from sklearn.datasets import make_blobs\n",
        "\n",
        "# Generate some dummy data\n",
        "X, y = make_blobs(n_samples=100, centers=2, random_state=42)\n",
        "\n",
        "# Define different C values to explore\n",
        "C_values = [0.1, 1, 10]\n",
        "\n",
        "plt.figure(figsize=(15, 5))\n",
        "\n",
        "for i, C in enumerate(C_values):\n",
        "    # Train SVM with different C values\n",
        "    clf = SVC(kernel='linear', C=C)\n",
        "    clf.fit(X, y)\n",
        "\n",
        "    # Plot the decision boundary\n",
        "    ax = plt.subplot(1, len(C_values), i + 1)\n",
        "    x_min, x_max = X[:, 0].min() - 1, X[:, 0].max() + 1\n",
        "    y_min, y_max = X[:, 1].min() - 1, X[:, 1].max() + 1\n",
        "    xx, yy = np.meshgrid(np.arange(x_min, x_max, 0.02), np.arange(y_min, y_max, 0.02))\n",
        "    Z = clf.predict(np.c_[xx.ravel(), yy.ravel()])\n",
        "    Z = Z.reshape(xx.shape)\n",
        "    ax.contourf(xx, yy, Z, cmap=plt.cm.coolwarm, alpha=0.8)\n",
        "\n",
        "    # Plot the data points\n",
        "    ax.scatter(X[:, 0], X[:, 1], c=y, cmap=plt.cm.coolwarm, edgecolors='k')\n",
        "    ax.set_title(f'SVM with C = {C}')\n",
        "\n",
        "plt.tight_layout()\n",
        "plt.show()"
      ],
      "metadata": {
        "colab": {
          "base_uri": "https://localhost:8080/",
          "height": 470
        },
        "id": "lr5meoudnTOT",
        "outputId": "e308b4ee-5529-404f-90cf-2ffec1ae5432"
      },
      "execution_count": 7,
      "outputs": [
        {
          "output_type": "display_data",
          "data": {
            "text/plain": [
              "<Figure size 1500x500 with 3 Axes>"
            ],
            "image/png": "[encoded data removed]"
          },
          "metadata": {}
        }
      ]
    },
    {
      "cell_type": "markdown",
      "source": [
        "**Question-28**Write a Python program to train a Bernoulli Naïve Bayes classifier for binary classification on a dataset with\n",
        "binary features=\n"
      ],
      "metadata": {
        "id": "Hwpap07fnbN5"
      }
    },
    {
      "cell_type": "code",
      "source": [
        "from sklearn.naive_bayes import BernoulliNB\n",
        "from sklearn.model_selection import train_test_split\n",
        "from sklearn.metrics import accuracy_score\n",
        "import numpy as np\n",
        "\n",
        "# Generate a dummy dataset with binary features\n",
        "# Let's assume 100 samples and 5 binary features\n",
        "X = np.random.randint(2, size=(100, 5))\n",
        "y = np.random.randint(2, size=100) # Binary target variable\n",
        "\n",
        "# Split data\n",
        "X_train, X_test, y_train, y_test = train_test_split(X, y, test_size=0.3, random_state=42)\n",
        "\n",
        "# Train Bernoulli Naive Bayes\n",
        "bnb = BernoulliNB()\n",
        "bnb.fit(X_train, y_train)\n",
        "y_pred = bnb.predict(X_test)\n",
        "\n",
        "# Evaluate accuracy\n",
        "print(\"Bernoulli Naive Bayes Accuracy:\", accuracy_score(y_test, y_pred))"
      ],
      "metadata": {
        "colab": {
          "base_uri": "https://localhost:8080/"
        },
        "id": "i5Jd4_kKnl9l",
        "outputId": "a7018da3-5e7a-4b86-bc52-3df66bd159fe"
      },
      "execution_count": 8,
      "outputs": [
        {
          "output_type": "stream",
          "name": "stdout",
          "text": [
            "Bernoulli Naive Bayes Accuracy: 0.5333333333333333\n"
          ]
        }
      ]
    },
    {
      "cell_type": "markdown",
      "source": [
        "**Question-29**.Write a Python program to apply feature scaling before training an SVM model and compare results with\n",
        "unscaled data="
      ],
      "metadata": {
        "id": "7IyYPDkroJwO"
      }
    },
    {
      "cell_type": "code",
      "source": [
        "from sklearn.datasets import load_breast_cancer\n",
        "from sklearn.model_selection import train_test_split\n",
        "from sklearn.svm import SVC\n",
        "from sklearn.metrics import accuracy_score\n",
        "from sklearn.preprocessing import StandardScaler\n",
        "\n",
        "# Load and split the dataset\n",
        "cancer = load_breast_cancer()\n",
        "X_train, X_test, y_train, y_test = train_test_split(cancer.data, cancer.target, test_size=0.3, random_state=42)\n",
        "\n",
        "# Train SVM on unscaled data\n",
        "svm_unscaled = SVC()\n",
        "svm_unscaled.fit(X_train, y_train)\n",
        "y_pred_unscaled = svm_unscaled.predict(X_test)\n",
        "accuracy_unscaled = accuracy_score(y_test, y_pred_unscaled)\n",
        "print(\"Accuracy (Unscaled Data):\", accuracy_unscaled)\n",
        "\n",
        "# Apply feature scaling\n",
        "scaler = StandardScaler()\n",
        "X_train_scaled = scaler.fit_transform(X_train)\n",
        "X_test_scaled = scaler.transform(X_test)\n",
        "\n",
        "# Train SVM on scaled data\n",
        "svm_scaled = SVC()\n",
        "svm_scaled.fit(X_train_scaled, y_train)\n",
        "y_pred_scaled = svm_scaled.predict(X_test_scaled)\n",
        "accuracy_scaled = accuracy_score(y_test, y_pred_scaled)\n",
        "print(\"Accuracy (Scaled Data):\", accuracy_scaled)"
      ],
      "metadata": {
        "colab": {
          "base_uri": "https://localhost:8080/"
        },
        "id": "9VjCmZdHoT9c",
        "outputId": "87b09d51-123e-4da8-c61a-5695718a504d"
      },
      "execution_count": 9,
      "outputs": [
        {
          "output_type": "stream",
          "name": "stdout",
          "text": [
            "Accuracy (Unscaled Data): 0.935672514619883\n",
            "Accuracy (Scaled Data): 0.9766081871345029\n"
          ]
        }
      ]
    },
    {
      "cell_type": "markdown",
      "source": [
        "**Question-30**Write a Python program to train a Gaussian Naïve Bayes model and compare the predictions before and\n",
        "after Laplace Smoothing=\n"
      ],
      "metadata": {
        "id": "Tw9WpCmYobMe"
      }
    },
    {
      "cell_type": "code",
      "source": [
        "import numpy as np\n",
        "from sklearn.naive_bayes import GaussianNB\n",
        "from sklearn.model_selection import train_test_split\n",
        "\n",
        "# Create a dummy dataset where Laplace smoothing would be beneficial\n",
        "# We need a feature value present in the test set that was not seen for a specific class in the training set.\n",
        "X_train = np.array([[1, 0], [1, 0], [0, 1], [0, 1], [0, 0], [0, 0], [0, 0]])\n",
        "y_train = np.array([0, 0, 1, 1, 1, 1, 1]) # Class 0 has features [1,0] and [0,0]. Class 1 has [0,1] and [0,0].\n",
        "\n",
        "# Create a test sample with a feature combination that exists in the training data overall,\n",
        "# but not for the class we expect it to be classified as.\n",
        "# For example, let's test with [1, 1]. In this training data, [1,1] is not present for either class.\n",
        "# If we test with a value that is present for one class but not the other in training,\n",
        "# like [1,0], for class 1, the probability will be 0 without smoothing.\n",
        "X_test = np.array([[1, 0]])\n",
        "y_test = np.array([1]) # We want to see the prediction for this sample, which belongs to class 1\n",
        "\n",
        "# Train Gaussian Naive Bayes without Laplace Smoothing (var_smoothing=0)\n",
        "# Note: var_smoothing=0 can lead to issues with zero variance in features.\n",
        "# A very small value is generally preferred over 0 for numerical stability.\n",
        "# Let's use a very small value close to 0 to approximate no smoothing effect while maintaining stability.\n",
        "gnb_no_smoothing = GaussianNB(var_smoothing=1e-15) # Use a very small value instead of 0 for stability\n",
        "gnb_no_smoothing.fit(X_train, y_train)\n",
        "\n",
        "# Predict on the test set without smoothing\n",
        "# We expect the probability of the test sample belonging to class 1 to be very low or cause issues without smoothing\n",
        "try:\n",
        "    # Get the log probabilities to see the effect clearly\n",
        "    log_prob_no_smoothing = gnb_no_smoothing.predict_log_proba(X_test)\n",
        "    print(\"Log Probabilities without Laplace Smoothing (Class 0, Class 1):\", log_prob_no_smoothing)\n",
        "    pred_no_smoothing = gnb_no_smoothing.predict(X_test)\n",
        "    print(\"Prediction without Laplace Smoothing:\", pred_no_smoothing)\n",
        "except Exception as e:\n",
        "    print(\"Prediction without Laplace Smoothing: Error -\", e)\n",
        "\n",
        "\n",
        "# Train Gaussian Naive Bayes with Laplace Smoothing (default var_smoothing)\n",
        "gnb_with_smoothing = GaussianNB() # Default var_smoothing is 1e-9\n",
        "gnb_with_smoothing.fit(X_train, y_train)\n",
        "\n",
        "# Predict on the test set with smoothing\n",
        "log_prob_with_smoothing = gnb_with_smoothing.predict_log_proba(X_test)\n",
        "print(\"Log Probabilities with Laplace Smoothing (Class 0, Class 1):\", log_prob_with_smoothing)\n",
        "pred_with_smoothing = gnb_with_smoothing.predict(X_test)\n",
        "print(\"Prediction with Laplace Smoothing:\", pred_with_smoothing)"
      ],
      "metadata": {
        "colab": {
          "base_uri": "https://localhost:8080/"
        },
        "id": "xJUZLuYioiOt",
        "outputId": "55b07bcb-8361-41ff-f020-d1df65fd3e4d"
      },
      "execution_count": 11,
      "outputs": [
        {
          "output_type": "stream",
          "name": "stdout",
          "text": [
            "Log Probabilities without Laplace Smoothing (Class 0, Class 1): [[ 0.00e+00 -2.45e+15]]\n",
            "Prediction without Laplace Smoothing: [0]\n",
            "Log Probabilities with Laplace Smoothing (Class 0, Class 1): [[ 0.00000000e+00 -2.45000001e+09]]\n",
            "Prediction with Laplace Smoothing: [0]\n"
          ]
        }
      ]
    },
    {
      "cell_type": "markdown",
      "source": [
        "**Question-31**. Write a Python program to train an SVM Classifier and use GridSearchCV to tune the hyperparameters (C,\n",
        "gamma, kernel)="
      ],
      "metadata": {
        "id": "dPTdvg2xpNKo"
      }
    },
    {
      "cell_type": "code",
      "source": [
        "from sklearn.datasets import load_iris\n",
        "from sklearn.model_selection import train_test_split, GridSearchCV\n",
        "from sklearn.svm import SVC\n",
        "\n",
        "X, y = load_iris(return_X_y=True)\n",
        "X_train, X_test, y_train, y_test = train_test_split(X, y, test_size=0.3, random_state=42)\n",
        "param_grid = {'C': [0.1, 1, 10], 'gamma': ['scale', 1, 0.1], 'kernel': ['linear', 'rbf']}\n",
        "grid = GridSearchCV(SVC(), param_grid, cv=3)\n",
        "grid.fit(X_train, y_train)\n",
        "print(\"Best parameters:\", grid.best_params_)\n",
        "print(\"Best score:\", grid.best_score_)\n"
      ],
      "metadata": {
        "colab": {
          "base_uri": "https://localhost:8080/"
        },
        "id": "z5gue8FkpQJe",
        "outputId": "468e913d-4305-4ae2-827b-06c0dd03edd3"
      },
      "execution_count": 12,
      "outputs": [
        {
          "output_type": "stream",
          "name": "stdout",
          "text": [
            "Best parameters: {'C': 1, 'gamma': 'scale', 'kernel': 'linear'}\n",
            "Best score: 0.9523809523809524\n"
          ]
        }
      ]
    },
    {
      "cell_type": "markdown",
      "source": [
        "**Question-32** Write a Python program to train an SVM Classifier on an imbalanced dataset and apply class weighting and\n",
        "check it improve accuracy."
      ],
      "metadata": {
        "id": "On1pTim9pUUj"
      }
    },
    {
      "cell_type": "code",
      "source": [
        "from sklearn.datasets import make_classification\n",
        "from sklearn.svm import SVC\n",
        "from sklearn.model_selection import train_test_split\n",
        "from sklearn.metrics import accuracy_score\n",
        "\n",
        "X, y = make_classification(n_samples=1000, n_features=10, n_informative=8, weights=[0.9, 0.1], random_state=1)\n",
        "X_train, X_test, y_train, y_test = train_test_split(X, y, test_size=0.3, random_state=42)\n",
        "svc = SVC(class_weight='balanced')\n",
        "svc.fit(X_train, y_train)\n",
        "print(\"Accuracy with class weight:\", accuracy_score(y_test, svc.predict(X_test)))\n"
      ],
      "metadata": {
        "colab": {
          "base_uri": "https://localhost:8080/"
        },
        "id": "YSr0KELGpczl",
        "outputId": "98872c5a-b035-4ec6-c07a-f4ea6b75f5fd"
      },
      "execution_count": 13,
      "outputs": [
        {
          "output_type": "stream",
          "name": "stdout",
          "text": [
            "Accuracy with class weight: 0.9366666666666666\n"
          ]
        }
      ]
    },
    {
      "cell_type": "markdown",
      "source": [
        "**Question-33**Write a Python program to implement a Naïve Bayes classifier for spam detection using email data."
      ],
      "metadata": {
        "id": "uj9iOhz8pgzJ"
      }
    },
    {
      "cell_type": "code",
      "source": [
        "from sklearn.datasets import fetch_20newsgroups\n",
        "from sklearn.feature_extraction.text import CountVectorizer\n",
        "from sklearn.naive_bayes import MultinomialNB\n",
        "from sklearn.model_selection import train_test_split\n",
        "from sklearn.metrics import accuracy_score\n",
        "\n",
        "data = fetch_20newsgroups(subset='all', categories=['sci.electronics', 'talk.politics.misc'])\n",
        "X_train, X_test, y_train, y_test = train_test_split(data.data, data.target, test_size=0.3, random_state=42)\n",
        "vectorizer = CountVectorizer()\n",
        "X_train_vec = vectorizer.fit_transform(X_train)\n",
        "X_test_vec = vectorizer.transform(X_test)\n",
        "model = MultinomialNB()\n",
        "model.fit(X_train_vec, y_train)\n",
        "print(\"Accuracy:\", accuracy_score(y_test, model.predict(X_test_vec)))\n"
      ],
      "metadata": {
        "colab": {
          "base_uri": "https://localhost:8080/"
        },
        "id": "DWvtUaI3pmyQ",
        "outputId": "42ee7c48-1a19-4d48-8a51-e74db3254d53"
      },
      "execution_count": 14,
      "outputs": [
        {
          "output_type": "stream",
          "name": "stdout",
          "text": [
            "Accuracy: 0.990530303030303\n"
          ]
        }
      ]
    },
    {
      "cell_type": "markdown",
      "source": [
        "**Question-34**Write a Python program to train an SVM Classifier and a Naïve Bayes Classifier on the same dataset and\n",
        "compare their accuracy."
      ],
      "metadata": {
        "id": "gfQSGHtWprrP"
      }
    },
    {
      "cell_type": "code",
      "source": [
        "from sklearn.datasets import fetch_20newsgroups\n",
        "from sklearn.feature_extraction.text import CountVectorizer\n",
        "from sklearn.naive_bayes import GaussianNB\n",
        "from sklearn.svm import SVC\n",
        "from sklearn.model_selection import train_test_split\n",
        "from sklearn.metrics import accuracy_score\n",
        "\n",
        "# Load and split the dataset\n",
        "data = fetch_20newsgroups(subset='all', categories=['sci.electronics', 'talk.politics.misc'])\n",
        "X_train, X_test, y_train, y_test = train_test_split(data.data, data.target, test_size=0.3, random_state=42)\n",
        "\n",
        "# Vectorize the text data\n",
        "vectorizer = CountVectorizer()\n",
        "X_train_vec = vectorizer.fit_transform(X_train)\n",
        "X_test_vec = vectorizer.transform(X_test)\n",
        "\n",
        "# SVM\n",
        "svc = SVC()\n",
        "svc.fit(X_train_vec, y_train)\n",
        "pred_svm = svc.predict(X_test_vec)\n",
        "print(\"SVM Accuracy:\", accuracy_score(y_test, pred_svm))\n",
        "\n",
        "# Naive Bayes\n",
        "gnb = GaussianNB()\n",
        "# GaussianNB expects dense data, convert the sparse matrix to a dense array\n",
        "gnb.fit(X_train_vec.toarray(), y_train)\n",
        "pred_nb = gnb.predict(X_test_vec.toarray())\n",
        "print(\"Naive Bayes Accuracy:\", accuracy_score(y_test, pred_nb))"
      ],
      "metadata": {
        "colab": {
          "base_uri": "https://localhost:8080/"
        },
        "id": "NCsDYB_yqAQJ",
        "outputId": "cb3504d8-2433-4f7f-8b0d-7ebf9511f7ca"
      },
      "execution_count": 17,
      "outputs": [
        {
          "output_type": "stream",
          "name": "stdout",
          "text": [
            "SVM Accuracy: 0.8674242424242424\n",
            "Naive Bayes Accuracy: 0.9924242424242424\n"
          ]
        }
      ]
    },
    {
      "cell_type": "markdown",
      "source": [
        "**Question-35**Write a Python program to perform feature selection before training a Naïve Bayes classifier and compare\n",
        "results."
      ],
      "metadata": {
        "id": "X8Q2uq-oqbc1"
      }
    },
    {
      "cell_type": "code",
      "source": [
        "from sklearn.datasets import fetch_20newsgroups\n",
        "from sklearn.feature_extraction.text import CountVectorizer\n",
        "from sklearn.naive_bayes import GaussianNB\n",
        "from sklearn.model_selection import train_test_split\n",
        "from sklearn.metrics import accuracy_score\n",
        "from sklearn.feature_selection import SelectKBest, f_classif\n",
        "\n",
        "# Load and split the dataset\n",
        "data = fetch_20newsgroups(subset='all', categories=['sci.electronics', 'talk.politics.misc'])\n",
        "X_train, X_test, y_train, y_test = train_test_split(data.data, data.target, test_size=0.3, random_state=42)\n",
        "\n",
        "# Vectorize the text data\n",
        "vectorizer = CountVectorizer()\n",
        "X_train_vec = vectorizer.fit_transform(X_train)\n",
        "X_test_vec = vectorizer.transform(X_test)\n",
        "\n",
        "# Apply feature selection\n",
        "selector = SelectKBest(score_func=f_classif, k=1000) # Choose a reasonable number of features\n",
        "X_train_fs = selector.fit_transform(X_train_vec, y_train)\n",
        "X_test_fs = selector.transform(X_test_vec)\n",
        "\n",
        "# Train Gaussian Naive Bayes on selected features\n",
        "gnb = GaussianNB()\n",
        "# GaussianNB expects dense data, convert the sparse matrix to a dense array\n",
        "gnb.fit(X_train_fs.toarray(), y_train)\n",
        "y_pred_fs = gnb.predict(X_test_fs.toarray())\n",
        "\n",
        "print(\"Accuracy after feature selection:\", accuracy_score(y_test, y_pred_fs))\n",
        "\n",
        "# Train Gaussian Naive Bayes without feature selection for comparison\n",
        "gnb_no_fs = GaussianNB()\n",
        "gnb_no_fs.fit(X_train_vec.toarray(), y_train)\n",
        "y_pred_no_fs = gnb_no_fs.predict(X_test_vec.toarray())\n",
        "\n",
        "print(\"Accuracy without feature selection:\", accuracy_score(y_test, y_pred_no_fs))"
      ],
      "metadata": {
        "colab": {
          "base_uri": "https://localhost:8080/"
        },
        "id": "75YcGm5ZqiC-",
        "outputId": "32c35f0b-fa51-4e78-d3a4-1d1390076851"
      },
      "execution_count": 19,
      "outputs": [
        {
          "output_type": "stream",
          "name": "stdout",
          "text": [
            "Accuracy after feature selection: 0.9659090909090909\n",
            "Accuracy without feature selection: 0.9924242424242424\n"
          ]
        }
      ]
    },
    {
      "cell_type": "markdown",
      "source": [
        "**Question-36**Write a Python program to train an SVM Classifier using One-vs-Rest (OvR) and One-vs-One (OvO)\n",
        "strategies on the Wine dataset and compare their accuracy."
      ],
      "metadata": {
        "id": "nlcCLIpIqs1D"
      }
    },
    {
      "cell_type": "code",
      "source": [
        "from sklearn.datasets import load_wine\n",
        "from sklearn.multiclass import OneVsRestClassifier, OneVsOneClassifier\n",
        "from sklearn.svm import SVC\n",
        "from sklearn.model_selection import train_test_split\n",
        "from sklearn.metrics import accuracy_score\n",
        "\n",
        "# Load and split the wine dataset\n",
        "wine = load_wine()\n",
        "X_train, X_test, y_train, y_test = train_test_split(wine.data, wine.target, test_size=0.3, random_state=42)\n",
        "\n",
        "# Train SVM classifiers with One-vs-Rest and One-vs-One strategies\n",
        "svc = SVC(kernel='linear')\n",
        "ovr = OneVsRestClassifier(svc)\n",
        "ovo = OneVsOneClassifier(svc)\n",
        "\n",
        "ovr.fit(X_train, y_train)\n",
        "ovo.fit(X_train, y_train)\n",
        "\n",
        "# Evaluate and print accuracies\n",
        "print(\"OvR accuracy:\", accuracy_score(y_test, ovr.predict(X_test)))\n",
        "print(\"OvO accuracy:\", accuracy_score(y_test, ovo.predict(X_test)))"
      ],
      "metadata": {
        "colab": {
          "base_uri": "https://localhost:8080/"
        },
        "id": "8OyqaP7yq3zw",
        "outputId": "6a524b15-2b18-47a0-f01a-108b3b898702"
      },
      "execution_count": 21,
      "outputs": [
        {
          "output_type": "stream",
          "name": "stdout",
          "text": [
            "OvR accuracy: 0.9814814814814815\n",
            "OvO accuracy: 0.9814814814814815\n"
          ]
        }
      ]
    },
    {
      "cell_type": "markdown",
      "source": [
        "**Question-37**Write a Python program to train an SVM Classifier using Linear, Polynomial, and RBF kernels on the Breast\n",
        "Cancer dataset and compare their accuracy."
      ],
      "metadata": {
        "id": "QwYFTHAkrC2b"
      }
    },
    {
      "cell_type": "code",
      "source": [
        "from sklearn.datasets import load_breast_cancer\n",
        "\n",
        "data = load_breast_cancer()\n",
        "X_train, X_test, y_train, y_test = train_test_split(data.data, data.target, test_size=0.3, random_state=42)\n",
        "for kernel in ['linear', 'poly', 'rbf']:\n",
        "    svc = SVC(kernel=kernel)\n",
        "    svc.fit(X_train, y_train)\n",
        "    acc = accuracy_score(y_test, svc.predict(X_test))\n",
        "    print(f\"{kernel} kernel accuracy:\", acc)\n"
      ],
      "metadata": {
        "colab": {
          "base_uri": "https://localhost:8080/"
        },
        "id": "2OqQKVyNrJl-",
        "outputId": "14ae140e-c498-4fcd-eb2a-376022383e4e"
      },
      "execution_count": 22,
      "outputs": [
        {
          "output_type": "stream",
          "name": "stdout",
          "text": [
            "linear kernel accuracy: 0.9649122807017544\n",
            "poly kernel accuracy: 0.9415204678362573\n",
            "rbf kernel accuracy: 0.935672514619883\n"
          ]
        }
      ]
    },
    {
      "cell_type": "markdown",
      "source": [
        "**Question-38**Write a Python program to train an SVM Classifier using Stratified K-Fold Cross-Validation and compute the\n",
        "average accuracy."
      ],
      "metadata": {
        "id": "S7wZWbRdramR"
      }
    },
    {
      "cell_type": "code",
      "source": [
        "from sklearn.model_selection import StratifiedKFold, cross_val_score\n",
        "svc = SVC()\n",
        "cv = StratifiedKFold(n_splits=5)\n",
        "scores = cross_val_score(svc, X, y, cv=cv)\n",
        "print(\"Average accuracy:\", scores.mean())\n"
      ],
      "metadata": {
        "colab": {
          "base_uri": "https://localhost:8080/"
        },
        "id": "yyiMyaBdrdy_",
        "outputId": "6e305c70-adbc-494a-d0fd-3995f62adad0"
      },
      "execution_count": 23,
      "outputs": [
        {
          "output_type": "stream",
          "name": "stdout",
          "text": [
            "Average accuracy: 0.9559999999999998\n"
          ]
        }
      ]
    },
    {
      "cell_type": "markdown",
      "source": [
        "**Question-39**Write a Python program to train a Naïve Bayes classifier using different prior probabilities and compare\n",
        "performance."
      ],
      "metadata": {
        "id": "Jur5UVYjrnEv"
      }
    },
    {
      "cell_type": "code",
      "source": [
        "from sklearn.naive_bayes import GaussianNB\n",
        "for prior in [None, [0.7, 0.3]]:\n",
        "    gnb = GaussianNB(priors=prior)\n",
        "    gnb.fit(X_train, y_train)\n",
        "    print(f\"Prior {prior}, Accuracy:\", accuracy_score(y_test, gnb.predict(X_test)))\n"
      ],
      "metadata": {
        "colab": {
          "base_uri": "https://localhost:8080/"
        },
        "id": "MolVpYNhrxGV",
        "outputId": "860c492e-16f4-4f09-cf3a-093aaf9d9de2"
      },
      "execution_count": 24,
      "outputs": [
        {
          "output_type": "stream",
          "name": "stdout",
          "text": [
            "Prior None, Accuracy: 0.9415204678362573\n",
            "Prior [0.7, 0.3], Accuracy: 0.935672514619883\n"
          ]
        }
      ]
    },
    {
      "cell_type": "markdown",
      "source": [
        "**Question-40**Write a Python program to perform Recursive Feature Elimination (RFE) before training an SVM Classifier and\n",
        "compare accuracy."
      ],
      "metadata": {
        "id": "CPL5Hyjkr14E"
      }
    },
    {
      "cell_type": "code",
      "source": [
        "from sklearn.feature_selection import RFE\n",
        "\n",
        "svc = SVC(kernel='linear')\n",
        "selector = RFE(estimator=svc, n_features_to_select=5)\n",
        "selector.fit(X_train, y_train)\n",
        "svc.fit(selector.transform(X_train), y_train)\n",
        "print(\"RFE + SVM accuracy:\", accuracy_score(y_test, svc.predict(selector.transform(X_test))))\n"
      ],
      "metadata": {
        "colab": {
          "base_uri": "https://localhost:8080/"
        },
        "id": "1BniiCK1sG9m",
        "outputId": "6e6a6860-b4d0-4283-fcf9-9f62a440594a"
      },
      "execution_count": 25,
      "outputs": [
        {
          "output_type": "stream",
          "name": "stdout",
          "text": [
            "RFE + SVM accuracy: 0.9298245614035088\n"
          ]
        }
      ]
    },
    {
      "cell_type": "markdown",
      "source": [
        "**Question-41**Write a Python program to train an SVM Classifier and evaluate its performance using Precision, Recall, and\n",
        "F1-Score instead of accuracy."
      ],
      "metadata": {
        "id": "b8bjhgLasKNd"
      }
    },
    {
      "cell_type": "code",
      "source": [
        "from sklearn.metrics import precision_score, recall_score, f1_score\n",
        "svc = SVC()\n",
        "svc.fit(X_train, y_train)\n",
        "y_pred = svc.predict(X_test)\n",
        "print(\"Precision:\", precision_score(y_test, y_pred, average='weighted'))\n",
        "print(\"Recall:\", recall_score(y_test, y_pred, average='weighted'))\n",
        "print(\"F1:\", f1_score(y_test, y_pred, average='weighted'))\n"
      ],
      "metadata": {
        "colab": {
          "base_uri": "https://localhost:8080/"
        },
        "id": "byFsggyjsREr",
        "outputId": "ec16476f-9cd5-42cd-eded-b93c94b3b6a2"
      },
      "execution_count": 26,
      "outputs": [
        {
          "output_type": "stream",
          "name": "stdout",
          "text": [
            "Precision: 0.9416187527642635\n",
            "Recall: 0.935672514619883\n",
            "F1: 0.9341545781711509\n"
          ]
        }
      ]
    },
    {
      "cell_type": "markdown",
      "source": [
        "**Question-42**Write a Python program to train a Naïve Bayes Classifier and evaluate its performance using Log Loss\n",
        "(Cross-Entropy Loss)"
      ],
      "metadata": {
        "id": "iuq-jwHOsTV-"
      }
    },
    {
      "cell_type": "code",
      "source": [
        "from sklearn.metrics import log_loss\n",
        "gnb = GaussianNB()\n",
        "gnb.fit(X_train, y_train)\n",
        "proba = gnb.predict_proba(X_test)\n",
        "print(\"Log Loss:\", log_loss(y_test, proba))\n"
      ],
      "metadata": {
        "colab": {
          "base_uri": "https://localhost:8080/"
        },
        "id": "MyMC3Uubsan_",
        "outputId": "4cf419ae-312d-456c-ed99-ff2a2e621685"
      },
      "execution_count": 27,
      "outputs": [
        {
          "output_type": "stream",
          "name": "stdout",
          "text": [
            "Log Loss: 0.48986013210958873\n"
          ]
        }
      ]
    },
    {
      "cell_type": "markdown",
      "source": [
        "**Question**-43. Write a Python program to train an SVM Classifier and visualize the Confusion Matrix using seaborn."
      ],
      "metadata": {
        "id": "0Iaj85ojsdeG"
      }
    },
    {
      "cell_type": "code",
      "source": [
        "import seaborn as sns\n",
        "from sklearn.metrics import confusion_matrix\n",
        "svc.fit(X_train, y_train)\n",
        "y_pred = svc.predict(X_test)\n",
        "cm = confusion_matrix(y_test, y_pred)\n",
        "sns.heatmap(cm, annot=True, fmt='d')\n"
      ],
      "metadata": {
        "colab": {
          "base_uri": "https://localhost:8080/",
          "height": 447
        },
        "id": "5idCFR2Qsm81",
        "outputId": "f5752c4a-6720-4b69-ed26-37324de1e034"
      },
      "execution_count": 28,
      "outputs": [
        {
          "output_type": "execute_result",
          "data": {
            "text/plain": [
              "<Axes: >"
            ]
          },
          "metadata": {},
          "execution_count": 28
        },
        {
          "output_type": "display_data",
          "data": {
            "text/plain": [
              "<Figure size 640x480 with 2 Axes>"
            ],
            "image/png": "[encoded data removed]"
          },
          "metadata": {}
        }
      ]
    },
    {
      "cell_type": "markdown",
      "source": [
        "**Question-44** Write a Python program to train an SVM Regressor (SVR) and evaluate its performance using Mean Absolute\n",
        "Error (MAE) instead of MSE."
      ],
      "metadata": {
        "id": "q2Cgrkqis7_c"
      }
    },
    {
      "cell_type": "code",
      "source": [
        "from sklearn.datasets import fetch_california_housing\n",
        "from sklearn.model_selection import train_test_split\n",
        "from sklearn.svm import SVR\n",
        "from sklearn.metrics import mean_absolute_error\n",
        "\n",
        "X, y = fetch_california_housing(return_X_y=True)\n",
        "X_train, X_test, y_train, y_test = train_test_split(X, y, test_size=0.3, random_state=42)\n",
        "svr = SVR()\n",
        "svr.fit(X_train, y_train)\n",
        "y_pred = svr.predict(X_test)\n",
        "print(\"Mean Absolute Error:\", mean_absolute_error(y_test, y_pred))\n"
      ],
      "metadata": {
        "colab": {
          "base_uri": "https://localhost:8080/"
        },
        "id": "EG6zGLYitDj9",
        "outputId": "2efa3684-59b2-4177-c90a-cb86dc0128b2"
      },
      "execution_count": 29,
      "outputs": [
        {
          "output_type": "stream",
          "name": "stdout",
          "text": [
            "Mean Absolute Error: 0.8664984635504496\n"
          ]
        }
      ]
    },
    {
      "cell_type": "markdown",
      "source": [
        "**Question-45**= Write a Python program to train a Naïve Bayes classifier and evaluate its performance using the ROC-AUC\n",
        "score."
      ],
      "metadata": {
        "id": "du_WXTG5tGMF"
      }
    },
    {
      "cell_type": "code",
      "source": [
        "from sklearn.datasets import load_breast_cancer\n",
        "from sklearn.model_selection import train_test_split\n",
        "from sklearn.naive_bayes import GaussianNB\n",
        "from sklearn.metrics import roc_auc_score\n",
        "\n",
        "# Load and split the Breast Cancer dataset (binary classification)\n",
        "cancer = load_breast_cancer()\n",
        "X_train, X_test, y_train, y_test = train_test_split(cancer.data, cancer.target, test_size=0.3, random_state=42)\n",
        "\n",
        "# Train Gaussian Naive Bayes\n",
        "gnb = GaussianNB()\n",
        "gnb.fit(X_train, y_train)\n",
        "\n",
        "# Get the predicted probabilities for the positive class\n",
        "proba = gnb.predict_proba(X_test)[:, 1]\n",
        "\n",
        "# Calculate and print the ROC-AUC score\n",
        "print(\"ROC-AUC:\", roc_auc_score(y_test, proba))"
      ],
      "metadata": {
        "colab": {
          "base_uri": "https://localhost:8080/"
        },
        "id": "3cddxM1WtOI7",
        "outputId": "99ba5e4e-5a7d-482f-8d20-f5f63f29f0d5"
      },
      "execution_count": 31,
      "outputs": [
        {
          "output_type": "stream",
          "name": "stdout",
          "text": [
            "ROC-AUC: 0.9922104644326867\n"
          ]
        }
      ]
    },
    {
      "cell_type": "markdown",
      "source": [
        "**Question-46**Write a Python program to train an SVM Classifier and visualize the Precision-Recall Curve."
      ],
      "metadata": {
        "id": "I2XFA36LtUku"
      }
    },
    {
      "cell_type": "code",
      "source": [
        "from sklearn.metrics import precision_recall_curve\n",
        "import matplotlib.pyplot as plt\n",
        "\n",
        "svc.fit(X_train, y_train)\n",
        "scores = svc.decision_function(X_test)\n",
        "prec, rec, _ = precision_recall_curve(y_test, scores)\n",
        "plt.plot(rec, prec)\n",
        "plt.xlabel(\"Recall\")\n",
        "plt.ylabel(\"Precision\")\n",
        "plt.title(\"Precision-Recall Curve\")\n",
        "plt.show()\n"
      ],
      "metadata": {
        "colab": {
          "base_uri": "https://localhost:8080/",
          "height": 472
        },
        "id": "ub4EvNBytceF",
        "outputId": "581ddc9b-4e09-4ead-8ce2-b70ce45a0a05"
      },
      "execution_count": 32,
      "outputs": [
        {
          "output_type": "display_data",
          "data": {
            "text/plain": [
              "<Figure size 640x480 with 1 Axes>"
            ],
            "image/png": "[encoded data removed]"
          },
          "metadata": {}
        }
      ]
    }
  ]
}